{
 "cells": [
  {
   "cell_type": "markdown",
   "id": "54067f9b",
   "metadata": {},
   "source": [
    "# MUltiple Linear Regression"
   ]
  },
  {
   "cell_type": "markdown",
   "id": "fb085cfa",
   "metadata": {},
   "source": [
    "## Importing the main libraries"
   ]
  },
  {
   "cell_type": "code",
   "execution_count": 5,
   "id": "6b0c4521",
   "metadata": {},
   "outputs": [],
   "source": [
    "import pandas as pd\n",
    "import matplotlib.pyplot as plt\n",
    "import numpy as np"
   ]
  },
  {
   "cell_type": "code",
   "execution_count": null,
   "id": "18799f99",
   "metadata": {},
   "outputs": [],
   "source": []
  }
 ],
 "metadata": {
  "kernelspec": {
   "display_name": "Python 3 (ipykernel)",
   "language": "python",
   "name": "python3"
  },
  "language_info": {
   "codemirror_mode": {
    "name": "ipython",
    "version": 3
   },
   "file_extension": ".py",
   "mimetype": "text/x-python",
   "name": "python",
   "nbconvert_exporter": "python",
   "pygments_lexer": "ipython3",
   "version": "3.9.16"
  }
 },
 "nbformat": 4,
 "nbformat_minor": 5
}

{
 "cells": [
  {
   "cell_type": "markdown",
   "metadata": {
    "colab_type": "text",
    "dc": {
     "key": "1d0b086e6c"
    },
    "id": "s9JLDE8NIquP",
    "run_control": {
     "frozen": true
    },
    "tags": [
     "context"
    ]
   },
   "source": [
    "# Introduction\n",
    "\n",
    "Today we'll dive deep into a dataset all about LEGO. From the dataset we can ask whole bunch of interesting questions about the history of the LEGO company, their product offering, and which LEGO set ultimately rules them all:\n",
    "\n",
    "<ul type=\"square\">\n",
    "<li>What is the most enormous LEGO set ever created and how many parts did it have?</li>\n",
    "\n",
    "<li>How did the LEGO company start out? In which year were the first LEGO sets released and how many sets did the company sell when it first launched?</li>\n",
    "\n",
    "<li>Which LEGO theme has the most sets? Is it one of LEGO's own themes like Ninjago or a theme they licensed liked Harry Potter or Marvel Superheroes?</li>\n",
    "\n",
    "<li>When did the LEGO company really expand its product offering? Can we spot a change in the company strategy based on how many themes and sets did it released year-on-year?</li>\n",
    "\n",
    "<li>Did LEGO sets grow in size and complexity over time? Do older LEGO \n",
    "sets tend to have more or fewer parts than newer sets?</li>\n",
    "</ul>\n",
    "\n",
    "**Data Source**\n",
    "\n",
    "[Rebrickable](https://rebrickable.com/downloads/) has compiled data on all the LEGO pieces in existence. I recommend you use download the .csv files provided in this lesson. "
   ]
  },
  {
   "cell_type": "markdown",
   "metadata": {
    "colab_type": "text",
    "id": "V0u2lGJuIquQ"
   },
   "source": [
    "# Import Statements"
   ]
  },
  {
   "cell_type": "code",
   "execution_count": 1,
   "metadata": {
    "colab": {},
    "colab_type": "code",
    "id": "z5Wk7rs-IquQ",
    "tags": []
   },
   "outputs": [],
   "source": [
    "import pandas as pd\n",
    "import numpy as np \n",
    "import matplotlib.pyplot as plt"
   ]
  },
  {
   "cell_type": "markdown",
   "metadata": {
    "colab_type": "text",
    "id": "R5NQpJ_KIquT"
   },
   "source": [
    "# Data Exploration"
   ]
  },
  {
   "cell_type": "markdown",
   "metadata": {
    "colab_type": "text",
    "dc": {
     "key": "044b2cef41"
    },
    "id": "ffaG-UFYIquT",
    "run_control": {
     "frozen": true
    },
    "tags": [
     "context"
    ]
   },
   "source": [
    "**Challenge**: How many different colours does the LEGO company produce? Read the colors.csv file in the data folder and find the total number of unique colours. Try using the [.nunique() method](https://pandas.pydata.org/pandas-docs/stable/reference/api/pandas.DataFrame.nunique.html?highlight=nunique#pandas.DataFrame.nunique) to accomplish this."
   ]
  },
  {
   "cell_type": "code",
   "execution_count": 2,
   "metadata": {
    "colab": {},
    "colab_type": "code",
    "id": "yd4G9pK7IquU"
   },
   "outputs": [
    {
     "data": {
      "text/plain": [
       "135"
      ]
     },
     "execution_count": 2,
     "metadata": {},
     "output_type": "execute_result"
    }
   ],
   "source": [
    "color_reading  = pd.read_csv('data/colors.csv')\n",
    "color_reading['name'].nunique(dropna=True)\n"
   ]
  },
  {
   "cell_type": "markdown",
   "metadata": {
    "colab": {},
    "colab_type": "code",
    "dc": {
     "key": "044b2cef41"
    },
    "id": "QmbAXax7IquW",
    "tags": [
     "sample_code"
    ]
   },
   "source": [
    "<img src =\"assets/bricks.jpg\">"
   ]
  },
  {
   "cell_type": "code",
   "execution_count": 3,
   "metadata": {
    "colab": {},
    "colab_type": "code",
    "dc": {
     "key": "15c1e2ce38"
    },
    "id": "SMc2sKiIIquY",
    "tags": [
     "sample_code"
    ]
   },
   "outputs": [
    {
     "data": {
      "text/html": [
       "<div>\n",
       "<style scoped>\n",
       "    .dataframe tbody tr th:only-of-type {\n",
       "        vertical-align: middle;\n",
       "    }\n",
       "\n",
       "    .dataframe tbody tr th {\n",
       "        vertical-align: top;\n",
       "    }\n",
       "\n",
       "    .dataframe thead th {\n",
       "        text-align: right;\n",
       "    }\n",
       "</style>\n",
       "<table border=\"1\" class=\"dataframe\">\n",
       "  <thead>\n",
       "    <tr style=\"text-align: right;\">\n",
       "      <th></th>\n",
       "      <th>id</th>\n",
       "      <th>name</th>\n",
       "      <th>rgb</th>\n",
       "      <th>is_trans</th>\n",
       "    </tr>\n",
       "  </thead>\n",
       "  <tbody>\n",
       "    <tr>\n",
       "      <th>0</th>\n",
       "      <td>-1</td>\n",
       "      <td>Unknown</td>\n",
       "      <td>0033B2</td>\n",
       "      <td>f</td>\n",
       "    </tr>\n",
       "    <tr>\n",
       "      <th>1</th>\n",
       "      <td>0</td>\n",
       "      <td>Black</td>\n",
       "      <td>05131D</td>\n",
       "      <td>f</td>\n",
       "    </tr>\n",
       "    <tr>\n",
       "      <th>2</th>\n",
       "      <td>1</td>\n",
       "      <td>Blue</td>\n",
       "      <td>0055BF</td>\n",
       "      <td>f</td>\n",
       "    </tr>\n",
       "    <tr>\n",
       "      <th>3</th>\n",
       "      <td>2</td>\n",
       "      <td>Green</td>\n",
       "      <td>237841</td>\n",
       "      <td>f</td>\n",
       "    </tr>\n",
       "    <tr>\n",
       "      <th>4</th>\n",
       "      <td>3</td>\n",
       "      <td>Dark Turquoise</td>\n",
       "      <td>008F9B</td>\n",
       "      <td>f</td>\n",
       "    </tr>\n",
       "  </tbody>\n",
       "</table>\n",
       "</div>"
      ],
      "text/plain": [
       "   id            name     rgb is_trans\n",
       "0  -1         Unknown  0033B2        f\n",
       "1   0           Black  05131D        f\n",
       "2   1            Blue  0055BF        f\n",
       "3   2           Green  237841        f\n",
       "4   3  Dark Turquoise  008F9B        f"
      ]
     },
     "execution_count": 3,
     "metadata": {},
     "output_type": "execute_result"
    }
   ],
   "source": [
    "color_reading.head()"
   ]
  },
  {
   "cell_type": "markdown",
   "metadata": {
    "colab_type": "text",
    "dc": {
     "key": "a5723ae5c2"
    },
    "id": "PItRbqgcIqua",
    "run_control": {
     "frozen": true
    },
    "tags": [
     "context"
    ]
   },
   "source": [
    "**Challenge**: Find the number of transparent colours where <code>is_trans == 't'</code> versus the number of opaque colours where <code>is_trans == 'f'</code>. See if you can accomplish this in two different ways."
   ]
  },
  {
   "cell_type": "code",
   "execution_count": 4,
   "metadata": {
    "colab": {},
    "colab_type": "code",
    "id": "1UZrfq82Iqub"
   },
   "outputs": [
    {
     "data": {
      "text/plain": [
       "id          28\n",
       "name        28\n",
       "rgb         28\n",
       "is_trans    28\n",
       "dtype: int64"
      ]
     },
     "execution_count": 4,
     "metadata": {},
     "output_type": "execute_result"
    }
   ],
   "source": [
    "color_reading.query('is_trans == \"t\"').count()"
   ]
  },
  {
   "cell_type": "code",
   "execution_count": 5,
   "metadata": {
    "colab": {},
    "colab_type": "code",
    "id": "KQFf-leCIqud"
   },
   "outputs": [
    {
     "data": {
      "text/plain": [
       "id          107\n",
       "name        107\n",
       "rgb         107\n",
       "is_trans    107\n",
       "dtype: int64"
      ]
     },
     "execution_count": 5,
     "metadata": {},
     "output_type": "execute_result"
    }
   ],
   "source": [
    "color_reading.query(\"is_trans == 'f'\").count()"
   ]
  },
  {
   "cell_type": "markdown",
   "metadata": {
    "colab_type": "text",
    "id": "TMqdhUYcusfy"
   },
   "source": [
    "**Challenge**: Change this into an h3 section heading: Understanding LEGO Themes vs. LEGO Sets"
   ]
  },
  {
   "cell_type": "markdown",
   "metadata": {
    "colab_type": "text",
    "id": "y0kxCh63uwOv"
   },
   "source": [
    "Walk into a LEGO store and you will see their products organised by theme. Their themes include Star Wars, Batman, Harry Potter and many more.\n",
    "\n",
    "**Challenge**: Display this image: https://i.imgur.com/aKcwkSx.png"
   ]
  },
  {
   "cell_type": "markdown",
   "metadata": {
    "colab_type": "text",
    "dc": {
     "key": "c9d0e58653"
    },
    "id": "u_xkZUF8Iqug",
    "run_control": {
     "frozen": true
    },
    "tags": [
     "context"
    ]
   },
   "source": [
    "A lego set is a particular box of LEGO or product. Therefore, a single theme typically has many different sets.\n",
    "\n",
    "**Challenge**: Display this image https://i.imgur.com/whB1olq.png "
   ]
  },
  {
   "cell_type": "markdown",
   "metadata": {
    "colab_type": "text",
    "id": "jJTAROe5unkx"
   },
   "source": [
    "The <code>sets.csv</code> data contains a list of sets over the years and the number of parts that each of these sets contained.\n",
    "\n",
    "**Challenge**: Read the sets.csv data and take a look at the first and last couple of rows. "
   ]
  },
  {
   "cell_type": "markdown",
   "metadata": {
    "colab": {},
    "colab_type": "code",
    "id": "vGMOv-NRIquh"
   },
   "source": [
    "<img src=\"https://i.imgur.com/aKcwkSx.png\">"
   ]
  },
  {
   "cell_type": "markdown",
   "metadata": {
    "colab": {},
    "colab_type": "code",
    "id": "T3lLFvyZIqui"
   },
   "source": [
    "<img src=\"https://i.imgur.com/whB1olq.png\">"
   ]
  },
  {
   "cell_type": "code",
   "execution_count": 6,
   "metadata": {
    "colab": {},
    "colab_type": "code",
    "id": "XprDBmzwIquk"
   },
   "outputs": [],
   "source": [
    "sets  = pd.read_csv('data/sets.csv')"
   ]
  },
  {
   "cell_type": "code",
   "execution_count": 7,
   "metadata": {},
   "outputs": [
    {
     "data": {
      "text/html": [
       "<div>\n",
       "<style scoped>\n",
       "    .dataframe tbody tr th:only-of-type {\n",
       "        vertical-align: middle;\n",
       "    }\n",
       "\n",
       "    .dataframe tbody tr th {\n",
       "        vertical-align: top;\n",
       "    }\n",
       "\n",
       "    .dataframe thead th {\n",
       "        text-align: right;\n",
       "    }\n",
       "</style>\n",
       "<table border=\"1\" class=\"dataframe\">\n",
       "  <thead>\n",
       "    <tr style=\"text-align: right;\">\n",
       "      <th></th>\n",
       "      <th>set_num</th>\n",
       "      <th>name</th>\n",
       "      <th>year</th>\n",
       "      <th>theme_id</th>\n",
       "      <th>num_parts</th>\n",
       "    </tr>\n",
       "  </thead>\n",
       "  <tbody>\n",
       "    <tr>\n",
       "      <th>0</th>\n",
       "      <td>001-1</td>\n",
       "      <td>Gears</td>\n",
       "      <td>1965</td>\n",
       "      <td>1</td>\n",
       "      <td>43</td>\n",
       "    </tr>\n",
       "    <tr>\n",
       "      <th>1</th>\n",
       "      <td>0011-2</td>\n",
       "      <td>Town Mini-Figures</td>\n",
       "      <td>1978</td>\n",
       "      <td>84</td>\n",
       "      <td>12</td>\n",
       "    </tr>\n",
       "    <tr>\n",
       "      <th>2</th>\n",
       "      <td>0011-3</td>\n",
       "      <td>Castle 2 for 1 Bonus Offer</td>\n",
       "      <td>1987</td>\n",
       "      <td>199</td>\n",
       "      <td>0</td>\n",
       "    </tr>\n",
       "    <tr>\n",
       "      <th>3</th>\n",
       "      <td>0012-1</td>\n",
       "      <td>Space Mini-Figures</td>\n",
       "      <td>1979</td>\n",
       "      <td>143</td>\n",
       "      <td>12</td>\n",
       "    </tr>\n",
       "    <tr>\n",
       "      <th>4</th>\n",
       "      <td>0013-1</td>\n",
       "      <td>Space Mini-Figures</td>\n",
       "      <td>1979</td>\n",
       "      <td>143</td>\n",
       "      <td>12</td>\n",
       "    </tr>\n",
       "  </tbody>\n",
       "</table>\n",
       "</div>"
      ],
      "text/plain": [
       "  set_num                        name  year  theme_id  num_parts\n",
       "0   001-1                       Gears  1965         1         43\n",
       "1  0011-2           Town Mini-Figures  1978        84         12\n",
       "2  0011-3  Castle 2 for 1 Bonus Offer  1987       199          0\n",
       "3  0012-1          Space Mini-Figures  1979       143         12\n",
       "4  0013-1          Space Mini-Figures  1979       143         12"
      ]
     },
     "execution_count": 7,
     "metadata": {},
     "output_type": "execute_result"
    }
   ],
   "source": [
    "sets.head()"
   ]
  },
  {
   "cell_type": "code",
   "execution_count": 8,
   "metadata": {},
   "outputs": [
    {
     "data": {
      "text/html": [
       "<div>\n",
       "<style scoped>\n",
       "    .dataframe tbody tr th:only-of-type {\n",
       "        vertical-align: middle;\n",
       "    }\n",
       "\n",
       "    .dataframe tbody tr th {\n",
       "        vertical-align: top;\n",
       "    }\n",
       "\n",
       "    .dataframe thead th {\n",
       "        text-align: right;\n",
       "    }\n",
       "</style>\n",
       "<table border=\"1\" class=\"dataframe\">\n",
       "  <thead>\n",
       "    <tr style=\"text-align: right;\">\n",
       "      <th></th>\n",
       "      <th>set_num</th>\n",
       "      <th>name</th>\n",
       "      <th>year</th>\n",
       "      <th>theme_id</th>\n",
       "      <th>num_parts</th>\n",
       "    </tr>\n",
       "  </thead>\n",
       "  <tbody>\n",
       "    <tr>\n",
       "      <th>15705</th>\n",
       "      <td>wwgp1-1</td>\n",
       "      <td>Wild West Limited Edition Gift Pack</td>\n",
       "      <td>1996</td>\n",
       "      <td>476</td>\n",
       "      <td>0</td>\n",
       "    </tr>\n",
       "    <tr>\n",
       "      <th>15706</th>\n",
       "      <td>XMASTREE-1</td>\n",
       "      <td>Christmas Tree</td>\n",
       "      <td>2019</td>\n",
       "      <td>410</td>\n",
       "      <td>26</td>\n",
       "    </tr>\n",
       "    <tr>\n",
       "      <th>15707</th>\n",
       "      <td>XWING-1</td>\n",
       "      <td>Mini X-Wing Fighter</td>\n",
       "      <td>2019</td>\n",
       "      <td>158</td>\n",
       "      <td>60</td>\n",
       "    </tr>\n",
       "    <tr>\n",
       "      <th>15708</th>\n",
       "      <td>XWING-2</td>\n",
       "      <td>X-Wing Trench Run</td>\n",
       "      <td>2019</td>\n",
       "      <td>158</td>\n",
       "      <td>52</td>\n",
       "    </tr>\n",
       "    <tr>\n",
       "      <th>15709</th>\n",
       "      <td>YODACHRON-1</td>\n",
       "      <td>Yoda Chronicles Promotional Set</td>\n",
       "      <td>2013</td>\n",
       "      <td>158</td>\n",
       "      <td>413</td>\n",
       "    </tr>\n",
       "  </tbody>\n",
       "</table>\n",
       "</div>"
      ],
      "text/plain": [
       "           set_num                                 name  year  theme_id  \\\n",
       "15705      wwgp1-1  Wild West Limited Edition Gift Pack  1996       476   \n",
       "15706   XMASTREE-1                       Christmas Tree  2019       410   \n",
       "15707      XWING-1                  Mini X-Wing Fighter  2019       158   \n",
       "15708      XWING-2                    X-Wing Trench Run  2019       158   \n",
       "15709  YODACHRON-1      Yoda Chronicles Promotional Set  2013       158   \n",
       "\n",
       "       num_parts  \n",
       "15705          0  \n",
       "15706         26  \n",
       "15707         60  \n",
       "15708         52  \n",
       "15709        413  "
      ]
     },
     "execution_count": 8,
     "metadata": {},
     "output_type": "execute_result"
    }
   ],
   "source": [
    "sets.tail()"
   ]
  },
  {
   "cell_type": "markdown",
   "metadata": {
    "colab_type": "text",
    "id": "ez-UXSMUIqum"
   },
   "source": [
    "**Challenge**: In which year were the first LEGO sets released and what were these sets called?"
   ]
  },
  {
   "cell_type": "code",
   "execution_count": 9,
   "metadata": {
    "colab": {},
    "colab_type": "code",
    "id": "s2aL6qrGIqum"
   },
   "outputs": [
    {
     "data": {
      "text/plain": [
       "1949"
      ]
     },
     "execution_count": 9,
     "metadata": {},
     "output_type": "execute_result"
    }
   ],
   "source": [
    "sets.year.min()"
   ]
  },
  {
   "cell_type": "code",
   "execution_count": 10,
   "metadata": {},
   "outputs": [
    {
     "data": {
      "text/html": [
       "<div>\n",
       "<style scoped>\n",
       "    .dataframe tbody tr th:only-of-type {\n",
       "        vertical-align: middle;\n",
       "    }\n",
       "\n",
       "    .dataframe tbody tr th {\n",
       "        vertical-align: top;\n",
       "    }\n",
       "\n",
       "    .dataframe thead th {\n",
       "        text-align: right;\n",
       "    }\n",
       "</style>\n",
       "<table border=\"1\" class=\"dataframe\">\n",
       "  <thead>\n",
       "    <tr style=\"text-align: right;\">\n",
       "      <th></th>\n",
       "      <th>set_num</th>\n",
       "      <th>name</th>\n",
       "      <th>year</th>\n",
       "      <th>theme_id</th>\n",
       "      <th>num_parts</th>\n",
       "    </tr>\n",
       "  </thead>\n",
       "  <tbody>\n",
       "    <tr>\n",
       "      <th>9521</th>\n",
       "      <td>700.1-1</td>\n",
       "      <td>Extra-Large Gift Set (ABB)</td>\n",
       "      <td>1949</td>\n",
       "      <td>365</td>\n",
       "      <td>142</td>\n",
       "    </tr>\n",
       "    <tr>\n",
       "      <th>9534</th>\n",
       "      <td>700.2-1</td>\n",
       "      <td>Large Gift Set (ABB)</td>\n",
       "      <td>1949</td>\n",
       "      <td>365</td>\n",
       "      <td>178</td>\n",
       "    </tr>\n",
       "    <tr>\n",
       "      <th>9539</th>\n",
       "      <td>700.3-1</td>\n",
       "      <td>Medium Gift Set (ABB)</td>\n",
       "      <td>1949</td>\n",
       "      <td>365</td>\n",
       "      <td>142</td>\n",
       "    </tr>\n",
       "    <tr>\n",
       "      <th>9544</th>\n",
       "      <td>700.A-1</td>\n",
       "      <td>Small Brick Set (ABB)</td>\n",
       "      <td>1949</td>\n",
       "      <td>371</td>\n",
       "      <td>24</td>\n",
       "    </tr>\n",
       "    <tr>\n",
       "      <th>9545</th>\n",
       "      <td>700.B-1</td>\n",
       "      <td>Small Doors and Windows Set (ABB)</td>\n",
       "      <td>1949</td>\n",
       "      <td>371</td>\n",
       "      <td>12</td>\n",
       "    </tr>\n",
       "  </tbody>\n",
       "</table>\n",
       "</div>"
      ],
      "text/plain": [
       "      set_num                               name  year  theme_id  num_parts\n",
       "9521  700.1-1         Extra-Large Gift Set (ABB)  1949       365        142\n",
       "9534  700.2-1               Large Gift Set (ABB)  1949       365        178\n",
       "9539  700.3-1              Medium Gift Set (ABB)  1949       365        142\n",
       "9544  700.A-1              Small Brick Set (ABB)  1949       371         24\n",
       "9545  700.B-1  Small Doors and Windows Set (ABB)  1949       371         12"
      ]
     },
     "execution_count": 10,
     "metadata": {},
     "output_type": "execute_result"
    }
   ],
   "source": [
    "sets.query(\"year == 1949\")"
   ]
  },
  {
   "cell_type": "markdown",
   "metadata": {
    "colab_type": "text",
    "id": "JJoK3M8TBAVU"
   },
   "source": [
    "**Challenge**: How many different sets did LEGO sell in their first year? How many types of LEGO products were on offer in the year the company started?"
   ]
  },
  {
   "cell_type": "code",
   "execution_count": 11,
   "metadata": {
    "colab": {},
    "colab_type": "code",
    "id": "h-Tf1w7IBBg9"
   },
   "outputs": [
    {
     "data": {
      "text/plain": [
       "set_num      5\n",
       "name         5\n",
       "year         5\n",
       "theme_id     5\n",
       "num_parts    5\n",
       "dtype: int64"
      ]
     },
     "execution_count": 11,
     "metadata": {},
     "output_type": "execute_result"
    }
   ],
   "source": [
    "sets.query(\"year == 1949\").count()"
   ]
  },
  {
   "cell_type": "markdown",
   "metadata": {
    "colab_type": "text",
    "id": "RJMMYQYqIquo"
   },
   "source": [
    "**Challenge**: Find the top 5 LEGO sets with the most number of parts. "
   ]
  },
  {
   "cell_type": "code",
   "execution_count": 12,
   "metadata": {
    "colab": {},
    "colab_type": "code",
    "id": "toJvjRuQIqup"
   },
   "outputs": [
    {
     "data": {
      "text/html": [
       "<div>\n",
       "<style scoped>\n",
       "    .dataframe tbody tr th:only-of-type {\n",
       "        vertical-align: middle;\n",
       "    }\n",
       "\n",
       "    .dataframe tbody tr th {\n",
       "        vertical-align: top;\n",
       "    }\n",
       "\n",
       "    .dataframe thead th {\n",
       "        text-align: right;\n",
       "    }\n",
       "</style>\n",
       "<table border=\"1\" class=\"dataframe\">\n",
       "  <thead>\n",
       "    <tr style=\"text-align: right;\">\n",
       "      <th></th>\n",
       "      <th>set_num</th>\n",
       "      <th>name</th>\n",
       "      <th>year</th>\n",
       "      <th>theme_id</th>\n",
       "      <th>num_parts</th>\n",
       "    </tr>\n",
       "  </thead>\n",
       "  <tbody>\n",
       "    <tr>\n",
       "      <th>15004</th>\n",
       "      <td>BIGBOX-1</td>\n",
       "      <td>The Ultimate Battle for Chima</td>\n",
       "      <td>2015</td>\n",
       "      <td>571</td>\n",
       "      <td>9987</td>\n",
       "    </tr>\n",
       "    <tr>\n",
       "      <th>11183</th>\n",
       "      <td>75192-1</td>\n",
       "      <td>UCS Millennium Falcon</td>\n",
       "      <td>2017</td>\n",
       "      <td>171</td>\n",
       "      <td>7541</td>\n",
       "    </tr>\n",
       "    <tr>\n",
       "      <th>10551</th>\n",
       "      <td>71043-1</td>\n",
       "      <td>Hogwarts Castle</td>\n",
       "      <td>2018</td>\n",
       "      <td>246</td>\n",
       "      <td>6020</td>\n",
       "    </tr>\n",
       "    <tr>\n",
       "      <th>295</th>\n",
       "      <td>10256-1</td>\n",
       "      <td>Taj Mahal</td>\n",
       "      <td>2017</td>\n",
       "      <td>673</td>\n",
       "      <td>5923</td>\n",
       "    </tr>\n",
       "    <tr>\n",
       "      <th>221</th>\n",
       "      <td>10189-1</td>\n",
       "      <td>Taj Mahal</td>\n",
       "      <td>2008</td>\n",
       "      <td>673</td>\n",
       "      <td>5922</td>\n",
       "    </tr>\n",
       "  </tbody>\n",
       "</table>\n",
       "</div>"
      ],
      "text/plain": [
       "        set_num                           name  year  theme_id  num_parts\n",
       "15004  BIGBOX-1  The Ultimate Battle for Chima  2015       571       9987\n",
       "11183   75192-1          UCS Millennium Falcon  2017       171       7541\n",
       "10551   71043-1                Hogwarts Castle  2018       246       6020\n",
       "295     10256-1                      Taj Mahal  2017       673       5923\n",
       "221     10189-1                      Taj Mahal  2008       673       5922"
      ]
     },
     "execution_count": 12,
     "metadata": {},
     "output_type": "execute_result"
    }
   ],
   "source": [
    "sets.sort_values('num_parts',ascending=False).head()"
   ]
  },
  {
   "cell_type": "markdown",
   "metadata": {
    "colab_type": "text",
    "id": "uSyhOzAHIqur"
   },
   "source": [
    "**Challenge**: Use <code>.groupby()</code> and <code>.count()</code> to show the number of LEGO sets released year-on-year. How do the number of sets released in 1955 compare to the number of sets released in 2019? "
   ]
  },
  {
   "cell_type": "code",
   "execution_count": 13,
   "metadata": {
    "colab": {},
    "colab_type": "code",
    "id": "qjdrktZAIqus",
    "scrolled": true
   },
   "outputs": [
    {
     "data": {
      "text/plain": [
       "year\n",
       "1949      5\n",
       "1950      6\n",
       "1953      4\n",
       "1954     14\n",
       "1955     28\n",
       "       ... \n",
       "2017    786\n",
       "2018    816\n",
       "2019    840\n",
       "2020    674\n",
       "2021      3\n",
       "Name: set_num, Length: 71, dtype: int64"
      ]
     },
     "execution_count": 13,
     "metadata": {},
     "output_type": "execute_result"
    }
   ],
   "source": [
    "grouping = sets.groupby(by='year').count()\n",
    "grouping.set_num"
   ]
  },
  {
   "cell_type": "code",
   "execution_count": null,
   "metadata": {
    "colab": {},
    "colab_type": "code",
    "id": "tFInsHOkIqut"
   },
   "outputs": [],
   "source": []
  },
  {
   "cell_type": "markdown",
   "metadata": {
    "colab_type": "text",
    "id": "xJrmIOULIquv"
   },
   "source": [
    "**Challenge**: Show the number of LEGO releases on a line chart using Matplotlib. <br>\n",
    "<br>\n",
    "Note that the .csv file is from late 2020, so to plot the full calendar years, you will have to exclude some data from your chart. Can you use the slicing techniques covered in Day 21 to avoid plotting the last two years? The same syntax will work on Pandas DataFrames. "
   ]
  },
  {
   "cell_type": "code",
   "execution_count": 14,
   "metadata": {
    "colab": {},
    "colab_type": "code",
    "id": "Nckj4lSGIquw"
   },
   "outputs": [
    {
     "name": "stderr",
     "output_type": "stream",
     "text": [
      "/tmp/ipykernel_4288/1479429928.py:6: FutureWarning: The behavior of `series[i:j]` with an integer-dtype index is deprecated. In a future version, this will be treated as *label-based* indexing, consistent with e.g. `series[i]` lookups. To retain the old behavior, use `series.iloc[i:j]`. To get the future behavior, use `series.loc[i:j]`.\n",
      "  plt.plot(grouping.index[:-2],grouping.set_num[:-2])\n"
     ]
    },
    {
     "data": {
      "text/plain": [
       "[<matplotlib.lines.Line2D at 0x7ff1e5ad1a60>]"
      ]
     },
     "execution_count": 14,
     "metadata": {},
     "output_type": "execute_result"
    },
    {
     "data": {
      "image/png": "[encoded data removed]",
      "text/plain": [
       "<Figure size 500x500 with 1 Axes>"
      ]
     },
     "metadata": {},
     "output_type": "display_data"
    }
   ],
   "source": [
    "plt.figure(figsize=(5,5))\n",
    "plt.xticks(fontsize=8)\n",
    "plt.yticks(fontsize=8)\n",
    "plt.xlabel(xlabel=\"years\",fontsize=20)\n",
    "plt.ylabel(ylabel='numbers',fontsize=20)\n",
    "plt.plot(grouping.index[:-2],grouping.set_num[:-2])"
   ]
  },
  {
   "cell_type": "code",
   "execution_count": null,
   "metadata": {
    "colab": {},
    "colab_type": "code",
    "id": "_ZqAN-5MIquz"
   },
   "outputs": [],
   "source": []
  },
  {
   "cell_type": "markdown",
   "metadata": {
    "colab_type": "text",
    "id": "xrDeNYYXIqu1"
   },
   "source": [
    "### Aggregate Data with the Python .agg() Function\n",
    "\n",
    "Let's work out the number of different themes shipped by year. This means we have to count the number of unique theme_ids per calendar year."
   ]
  },
  {
   "cell_type": "code",
   "execution_count": 15,
   "metadata": {
    "colab": {},
    "colab_type": "code",
    "dc": {
     "key": "266a3f390c"
    },
    "id": "qx8pTau4Iqu2",
    "tags": [
     "sample_code"
    ]
   },
   "outputs": [
    {
     "data": {
      "text/html": [
       "<div>\n",
       "<style scoped>\n",
       "    .dataframe tbody tr th:only-of-type {\n",
       "        vertical-align: middle;\n",
       "    }\n",
       "\n",
       "    .dataframe tbody tr th {\n",
       "        vertical-align: top;\n",
       "    }\n",
       "\n",
       "    .dataframe thead th {\n",
       "        text-align: right;\n",
       "    }\n",
       "</style>\n",
       "<table border=\"1\" class=\"dataframe\">\n",
       "  <thead>\n",
       "    <tr style=\"text-align: right;\">\n",
       "      <th></th>\n",
       "      <th>theme_id</th>\n",
       "    </tr>\n",
       "    <tr>\n",
       "      <th>year</th>\n",
       "      <th></th>\n",
       "    </tr>\n",
       "  </thead>\n",
       "  <tbody>\n",
       "    <tr>\n",
       "      <th>2017</th>\n",
       "      <td>89</td>\n",
       "    </tr>\n",
       "    <tr>\n",
       "      <th>2018</th>\n",
       "      <td>93</td>\n",
       "    </tr>\n",
       "    <tr>\n",
       "      <th>2019</th>\n",
       "      <td>78</td>\n",
       "    </tr>\n",
       "    <tr>\n",
       "      <th>2020</th>\n",
       "      <td>82</td>\n",
       "    </tr>\n",
       "    <tr>\n",
       "      <th>2021</th>\n",
       "      <td>1</td>\n",
       "    </tr>\n",
       "  </tbody>\n",
       "</table>\n",
       "</div>"
      ],
      "text/plain": [
       "      theme_id\n",
       "year          \n",
       "2017        89\n",
       "2018        93\n",
       "2019        78\n",
       "2020        82\n",
       "2021         1"
      ]
     },
     "execution_count": 15,
     "metadata": {},
     "output_type": "execute_result"
    }
   ],
   "source": [
    "unique_theme = sets.groupby('year').agg({'theme_id':pd.Series.nunique})\n",
    "unique_theme.tail()"
   ]
  },
  {
   "cell_type": "code",
   "execution_count": null,
   "metadata": {
    "colab": {},
    "colab_type": "code",
    "id": "BqF1o997Iqu3"
   },
   "outputs": [],
   "source": []
  },
  {
   "cell_type": "markdown",
   "metadata": {
    "colab_type": "text",
    "id": "immCqqw1Iqu5"
   },
   "source": [
    "**Challenge**: Plot the number of themes released by year on a line chart. Only include the full calendar years (i.e., exclude 2020 and 2021). "
   ]
  },
  {
   "cell_type": "code",
   "execution_count": 16,
   "metadata": {
    "colab": {},
    "colab_type": "code",
    "id": "r2pamQEkIqu5"
   },
   "outputs": [
    {
     "name": "stderr",
     "output_type": "stream",
     "text": [
      "/tmp/ipykernel_4288/1821459115.py:6: FutureWarning: The behavior of `series[i:j]` with an integer-dtype index is deprecated. In a future version, this will be treated as *label-based* indexing, consistent with e.g. `series[i]` lookups. To retain the old behavior, use `series.iloc[i:j]`. To get the future behavior, use `series.loc[i:j]`.\n",
      "  plt.plot(unique_theme.index[:-2],unique_theme.theme_id[:-2])\n"
     ]
    },
    {
     "data": {
      "text/plain": [
       "[<matplotlib.lines.Line2D at 0x7ff1e5290040>]"
      ]
     },
     "execution_count": 16,
     "metadata": {},
     "output_type": "execute_result"
    },
    {
     "data": {
      "image/png": "[encoded data removed]",
      "text/plain": [
       "<Figure size 500x500 with 1 Axes>"
      ]
     },
     "metadata": {},
     "output_type": "display_data"
    }
   ],
   "source": [
    "plt.figure(figsize=(5,5))\n",
    "plt.xticks(fontsize=8)\n",
    "plt.yticks(fontsize=8)\n",
    "plt.xlabel(xlabel=\"years\",fontsize=20)\n",
    "plt.ylabel(ylabel='numbers',fontsize=20)\n",
    "plt.plot(unique_theme.index[:-2],unique_theme.theme_id[:-2])"
   ]
  },
  {
   "cell_type": "markdown",
   "metadata": {
    "colab_type": "text",
    "id": "uBbt9-lJIqu7"
   },
   "source": [
    "### Line Charts with Two Seperate Axes"
   ]
  },
  {
   "cell_type": "code",
   "execution_count": null,
   "metadata": {
    "colab": {},
    "colab_type": "code",
    "id": "j7lQ_amFIqu7"
   },
   "outputs": [],
   "source": []
  },
  {
   "cell_type": "markdown",
   "metadata": {
    "colab_type": "text",
    "id": "7BHYaUf-Iqu9"
   },
   "source": [
    "**Challenge**: Use the <code>.groupby()</code> and <code>.agg()</code> function together to figure out the average number of parts per set. How many parts did the average LEGO set released in 1954 compared to say, 2017?"
   ]
  },
  {
   "cell_type": "code",
   "execution_count": 17,
   "metadata": {
    "colab": {},
    "colab_type": "code",
    "id": "W7BcH9vuIqu9"
   },
   "outputs": [
    {
     "data": {
      "text/html": [
       "<div>\n",
       "<style scoped>\n",
       "    .dataframe tbody tr th:only-of-type {\n",
       "        vertical-align: middle;\n",
       "    }\n",
       "\n",
       "    .dataframe tbody tr th {\n",
       "        vertical-align: top;\n",
       "    }\n",
       "\n",
       "    .dataframe thead th {\n",
       "        text-align: right;\n",
       "    }\n",
       "</style>\n",
       "<table border=\"1\" class=\"dataframe\">\n",
       "  <thead>\n",
       "    <tr style=\"text-align: right;\">\n",
       "      <th></th>\n",
       "      <th>Avg_numparts</th>\n",
       "    </tr>\n",
       "    <tr>\n",
       "      <th>year</th>\n",
       "      <th></th>\n",
       "    </tr>\n",
       "  </thead>\n",
       "  <tbody>\n",
       "    <tr>\n",
       "      <th>1949</th>\n",
       "      <td>99.600000</td>\n",
       "    </tr>\n",
       "    <tr>\n",
       "      <th>1950</th>\n",
       "      <td>1.000000</td>\n",
       "    </tr>\n",
       "    <tr>\n",
       "      <th>1953</th>\n",
       "      <td>13.500000</td>\n",
       "    </tr>\n",
       "    <tr>\n",
       "      <th>1954</th>\n",
       "      <td>12.357143</td>\n",
       "    </tr>\n",
       "    <tr>\n",
       "      <th>1955</th>\n",
       "      <td>36.607143</td>\n",
       "    </tr>\n",
       "    <tr>\n",
       "      <th>...</th>\n",
       "      <td>...</td>\n",
       "    </tr>\n",
       "    <tr>\n",
       "      <th>2017</th>\n",
       "      <td>221.840967</td>\n",
       "    </tr>\n",
       "    <tr>\n",
       "      <th>2018</th>\n",
       "      <td>213.618873</td>\n",
       "    </tr>\n",
       "    <tr>\n",
       "      <th>2019</th>\n",
       "      <td>207.510714</td>\n",
       "    </tr>\n",
       "    <tr>\n",
       "      <th>2020</th>\n",
       "      <td>259.732938</td>\n",
       "    </tr>\n",
       "    <tr>\n",
       "      <th>2021</th>\n",
       "      <td>0.000000</td>\n",
       "    </tr>\n",
       "  </tbody>\n",
       "</table>\n",
       "<p>71 rows × 1 columns</p>\n",
       "</div>"
      ],
      "text/plain": [
       "      Avg_numparts\n",
       "year              \n",
       "1949     99.600000\n",
       "1950      1.000000\n",
       "1953     13.500000\n",
       "1954     12.357143\n",
       "1955     36.607143\n",
       "...            ...\n",
       "2017    221.840967\n",
       "2018    213.618873\n",
       "2019    207.510714\n",
       "2020    259.732938\n",
       "2021      0.000000\n",
       "\n",
       "[71 rows x 1 columns]"
      ]
     },
     "execution_count": 17,
     "metadata": {},
     "output_type": "execute_result"
    }
   ],
   "source": [
    "avg_group = sets.groupby('year').agg({'num_parts':pd.Series.mean})\n",
    "avg_group.rename(columns={'num_parts': 'Avg_numparts'},inplace=True)\n",
    "avg_group"
   ]
  },
  {
   "cell_type": "code",
   "execution_count": null,
   "metadata": {
    "colab": {},
    "colab_type": "code",
    "id": "fjbb3tZcIqu_"
   },
   "outputs": [],
   "source": []
  },
  {
   "cell_type": "markdown",
   "metadata": {
    "colab_type": "text",
    "id": "bAeTe2XqIqvB"
   },
   "source": [
    "### Scatter Plots in Matplotlib"
   ]
  },
  {
   "cell_type": "markdown",
   "metadata": {
    "colab_type": "text",
    "id": "SAViZ_TYIqvB"
   },
   "source": [
    "**Challenge**: Has the size and complexity of LEGO sets increased over time based on the number of parts? Plot the average number of parts over time using a Matplotlib scatter plot. See if you can use the [scatter plot documentation](https://matplotlib.org/3.1.0/api/_as_gen/matplotlib.pyplot.scatter.html) before I show you the solution. Do you spot a trend in the chart? "
   ]
  },
  {
   "cell_type": "code",
   "execution_count": 18,
   "metadata": {
    "colab": {},
    "colab_type": "code",
    "id": "EQNZ0D7JIqvB"
   },
   "outputs": [
    {
     "data": {
      "text/plain": [
       "<matplotlib.collections.PathCollection at 0x7ff1e5201970>"
      ]
     },
     "execution_count": 18,
     "metadata": {},
     "output_type": "execute_result"
    },
    {
     "data": {
      "image/png": "[encoded data removed]",
      "text/plain": [
       "<Figure size 500x500 with 1 Axes>"
      ]
     },
     "metadata": {},
     "output_type": "display_data"
    }
   ],
   "source": [
    "plt.figure(figsize=(5,5))\n",
    "plt.xticks(fontsize=8)\n",
    "plt.yticks(fontsize=8)\n",
    "plt.xlabel(xlabel=\"years\",fontsize=20)\n",
    "plt.ylabel(ylabel='numbers',fontsize=20)\n",
    "plt.scatter(avg_group.index,avg_group.Avg_numparts)"
   ]
  },
  {
   "cell_type": "markdown",
   "metadata": {
    "colab_type": "text",
    "id": "xK226Ip-IqvE"
   },
   "source": [
    "### Number of Sets per LEGO Theme"
   ]
  },
  {
   "cell_type": "markdown",
   "metadata": {
    "colab_type": "text",
    "id": "VKHa1FePIqvE"
   },
   "source": [
    "LEGO has licensed many hit franchises from Harry Potter to Marvel Super Heros to many others. But which theme has the largest number of individual sets? "
   ]
  },
  {
   "cell_type": "code",
   "execution_count": 19,
   "metadata": {
    "colab": {},
    "colab_type": "code",
    "id": "hOBcNrC9IqvE"
   },
   "outputs": [
    {
     "data": {
      "text/plain": [
       "158    753\n",
       "501    656\n",
       "494    398\n",
       "435    356\n",
       "503    329\n",
       "      ... \n",
       "307      1\n",
       "215      1\n",
       "361      1\n",
       "210      1\n",
       "414      1\n",
       "Name: theme_id, Length: 571, dtype: int64"
      ]
     },
     "execution_count": 19,
     "metadata": {},
     "output_type": "execute_result"
    }
   ],
   "source": [
    "highest_theme = sets['theme_id'].value_counts()\n",
    "highest_theme"
   ]
  },
  {
   "cell_type": "markdown",
   "metadata": {
    "colab_type": "text",
    "id": "J-i6JULGIqvG"
   },
   "source": [
    "**Challenge** Use what you know about HTML markup and tags to display the database schema: https://i.imgur.com/Sg4lcjx.png"
   ]
  },
  {
   "cell_type": "markdown",
   "metadata": {
    "colab_type": "text",
    "id": "27oDwiPHIqvH"
   },
   "source": [
    "<img src = \"https://i.imgur.com/Sg4lcjx.png\">"
   ]
  },
  {
   "cell_type": "markdown",
   "metadata": {
    "colab_type": "text",
    "id": "J_0iuerKIqvG"
   },
   "source": [
    "### Database Schemas, Foreign Keys and Merging DataFrames\n",
    "\n",
    "The themes.csv file has the actual theme names. The sets .csv has <code>theme_ids</code> which link to the <code>id</code> column in the themes.csv. "
   ]
  },
  {
   "cell_type": "markdown",
   "metadata": {
    "colab_type": "text",
    "id": "cp1tMW6oIqvH"
   },
   "source": [
    "**Challenge**: Explore the themes.csv. How is it structured? Search for the name 'Star Wars'. How many <code>id</code>s correspond to this name in the themes.csv? Now use these <code>id</code>s and find the corresponding the sets in the sets.csv (Hint: you'll need to look for matches in the <code>theme_id</code> column)"
   ]
  },
  {
   "cell_type": "code",
   "execution_count": 20,
   "metadata": {
    "colab": {},
    "colab_type": "code",
    "id": "3uN3wN5sIqvH"
   },
   "outputs": [
    {
     "data": {
      "text/html": [
       "<div>\n",
       "<style scoped>\n",
       "    .dataframe tbody tr th:only-of-type {\n",
       "        vertical-align: middle;\n",
       "    }\n",
       "\n",
       "    .dataframe tbody tr th {\n",
       "        vertical-align: top;\n",
       "    }\n",
       "\n",
       "    .dataframe thead th {\n",
       "        text-align: right;\n",
       "    }\n",
       "</style>\n",
       "<table border=\"1\" class=\"dataframe\">\n",
       "  <thead>\n",
       "    <tr style=\"text-align: right;\">\n",
       "      <th></th>\n",
       "      <th>id</th>\n",
       "      <th>name</th>\n",
       "      <th>parent_id</th>\n",
       "    </tr>\n",
       "  </thead>\n",
       "  <tbody>\n",
       "    <tr>\n",
       "      <th>0</th>\n",
       "      <td>1</td>\n",
       "      <td>Technic</td>\n",
       "      <td>0.0</td>\n",
       "    </tr>\n",
       "    <tr>\n",
       "      <th>1</th>\n",
       "      <td>2</td>\n",
       "      <td>Arctic Technic</td>\n",
       "      <td>1.0</td>\n",
       "    </tr>\n",
       "    <tr>\n",
       "      <th>2</th>\n",
       "      <td>3</td>\n",
       "      <td>Competition</td>\n",
       "      <td>1.0</td>\n",
       "    </tr>\n",
       "    <tr>\n",
       "      <th>3</th>\n",
       "      <td>4</td>\n",
       "      <td>Expert Builder</td>\n",
       "      <td>1.0</td>\n",
       "    </tr>\n",
       "    <tr>\n",
       "      <th>4</th>\n",
       "      <td>5</td>\n",
       "      <td>Model</td>\n",
       "      <td>1.0</td>\n",
       "    </tr>\n",
       "    <tr>\n",
       "      <th>...</th>\n",
       "      <td>...</td>\n",
       "      <td>...</td>\n",
       "      <td>...</td>\n",
       "    </tr>\n",
       "    <tr>\n",
       "      <th>591</th>\n",
       "      <td>705</td>\n",
       "      <td>Iron Man</td>\n",
       "      <td>696.0</td>\n",
       "    </tr>\n",
       "    <tr>\n",
       "      <th>592</th>\n",
       "      <td>706</td>\n",
       "      <td>Spider-Man</td>\n",
       "      <td>696.0</td>\n",
       "    </tr>\n",
       "    <tr>\n",
       "      <th>593</th>\n",
       "      <td>707</td>\n",
       "      <td>X-Men</td>\n",
       "      <td>696.0</td>\n",
       "    </tr>\n",
       "    <tr>\n",
       "      <th>594</th>\n",
       "      <td>708</td>\n",
       "      <td>The LEGO Batman Movie</td>\n",
       "      <td>697.0</td>\n",
       "    </tr>\n",
       "    <tr>\n",
       "      <th>595</th>\n",
       "      <td>709</td>\n",
       "      <td>LEGO Art</td>\n",
       "      <td>0.0</td>\n",
       "    </tr>\n",
       "  </tbody>\n",
       "</table>\n",
       "<p>596 rows × 3 columns</p>\n",
       "</div>"
      ],
      "text/plain": [
       "      id                   name  parent_id\n",
       "0      1                Technic        0.0\n",
       "1      2         Arctic Technic        1.0\n",
       "2      3            Competition        1.0\n",
       "3      4         Expert Builder        1.0\n",
       "4      5                  Model        1.0\n",
       "..   ...                    ...        ...\n",
       "591  705               Iron Man      696.0\n",
       "592  706             Spider-Man      696.0\n",
       "593  707                  X-Men      696.0\n",
       "594  708  The LEGO Batman Movie      697.0\n",
       "595  709               LEGO Art        0.0\n",
       "\n",
       "[596 rows x 3 columns]"
      ]
     },
     "execution_count": 20,
     "metadata": {},
     "output_type": "execute_result"
    }
   ],
   "source": [
    "new_themes = pd.read_csv(\"data/themes.csv\")\n",
    "new_themes.fillna(0)"
   ]
  },
  {
   "cell_type": "code",
   "execution_count": 21,
   "metadata": {
    "colab": {},
    "colab_type": "code",
    "id": "xAO2XlQGIqvJ"
   },
   "outputs": [
    {
     "data": {
      "text/html": [
       "<div>\n",
       "<style scoped>\n",
       "    .dataframe tbody tr th:only-of-type {\n",
       "        vertical-align: middle;\n",
       "    }\n",
       "\n",
       "    .dataframe tbody tr th {\n",
       "        vertical-align: top;\n",
       "    }\n",
       "\n",
       "    .dataframe thead th {\n",
       "        text-align: right;\n",
       "    }\n",
       "</style>\n",
       "<table border=\"1\" class=\"dataframe\">\n",
       "  <thead>\n",
       "    <tr style=\"text-align: right;\">\n",
       "      <th></th>\n",
       "      <th>id</th>\n",
       "      <th>name</th>\n",
       "      <th>parent_id</th>\n",
       "    </tr>\n",
       "  </thead>\n",
       "  <tbody>\n",
       "    <tr>\n",
       "      <th>591</th>\n",
       "      <td>705</td>\n",
       "      <td>Iron Man</td>\n",
       "      <td>696.0</td>\n",
       "    </tr>\n",
       "  </tbody>\n",
       "</table>\n",
       "</div>"
      ],
      "text/plain": [
       "      id      name  parent_id\n",
       "591  705  Iron Man      696.0"
      ]
     },
     "execution_count": 21,
     "metadata": {},
     "output_type": "execute_result"
    }
   ],
   "source": [
    "new_themes[new_themes.name == 'Iron Man']"
   ]
  },
  {
   "cell_type": "markdown",
   "metadata": {
    "colab": {},
    "colab_type": "code",
    "id": "xYEDlY-_IqvL"
   },
   "source": [
    "### linking it up to the data sets "
   ]
  },
  {
   "cell_type": "code",
   "execution_count": 22,
   "metadata": {
    "colab": {},
    "colab_type": "code",
    "id": "qBhckawNIqvN",
    "scrolled": true
   },
   "outputs": [
    {
     "data": {
      "text/html": [
       "<div>\n",
       "<style scoped>\n",
       "    .dataframe tbody tr th:only-of-type {\n",
       "        vertical-align: middle;\n",
       "    }\n",
       "\n",
       "    .dataframe tbody tr th {\n",
       "        vertical-align: top;\n",
       "    }\n",
       "\n",
       "    .dataframe thead th {\n",
       "        text-align: right;\n",
       "    }\n",
       "</style>\n",
       "<table border=\"1\" class=\"dataframe\">\n",
       "  <thead>\n",
       "    <tr style=\"text-align: right;\">\n",
       "      <th></th>\n",
       "      <th>set_num</th>\n",
       "      <th>name</th>\n",
       "      <th>year</th>\n",
       "      <th>theme_id</th>\n",
       "      <th>num_parts</th>\n",
       "    </tr>\n",
       "  </thead>\n",
       "  <tbody>\n",
       "    <tr>\n",
       "      <th>2931</th>\n",
       "      <td>30167-1</td>\n",
       "      <td>Iron Man vs. Fighting Drone</td>\n",
       "      <td>2013</td>\n",
       "      <td>705</td>\n",
       "      <td>24</td>\n",
       "    </tr>\n",
       "    <tr>\n",
       "      <th>2932</th>\n",
       "      <td>30168-1</td>\n",
       "      <td>Gun Mounting System</td>\n",
       "      <td>2013</td>\n",
       "      <td>705</td>\n",
       "      <td>17</td>\n",
       "    </tr>\n",
       "    <tr>\n",
       "      <th>8466</th>\n",
       "      <td>6250093-1</td>\n",
       "      <td>Iron Man Mosaic</td>\n",
       "      <td>2018</td>\n",
       "      <td>705</td>\n",
       "      <td>2305</td>\n",
       "    </tr>\n",
       "    <tr>\n",
       "      <th>11488</th>\n",
       "      <td>76006-1</td>\n",
       "      <td>Iron Man: Extremis Sea Port Battle</td>\n",
       "      <td>2013</td>\n",
       "      <td>705</td>\n",
       "      <td>195</td>\n",
       "    </tr>\n",
       "    <tr>\n",
       "      <th>11489</th>\n",
       "      <td>76007-1</td>\n",
       "      <td>Iron Man: Malibu Mansion Attack</td>\n",
       "      <td>2013</td>\n",
       "      <td>705</td>\n",
       "      <td>363</td>\n",
       "    </tr>\n",
       "    <tr>\n",
       "      <th>11490</th>\n",
       "      <td>76008-1</td>\n",
       "      <td>Iron Man vs. The Mandarin: Ultimate Showdown</td>\n",
       "      <td>2013</td>\n",
       "      <td>705</td>\n",
       "      <td>91</td>\n",
       "    </tr>\n",
       "    <tr>\n",
       "      <th>11651</th>\n",
       "      <td>76165-1</td>\n",
       "      <td>Iron Man Helmet</td>\n",
       "      <td>2020</td>\n",
       "      <td>705</td>\n",
       "      <td>479</td>\n",
       "    </tr>\n",
       "    <tr>\n",
       "      <th>15643</th>\n",
       "      <td>TRUIRONMAN-1</td>\n",
       "      <td>Iron Man Mosaic</td>\n",
       "      <td>2018</td>\n",
       "      <td>705</td>\n",
       "      <td>59</td>\n",
       "    </tr>\n",
       "  </tbody>\n",
       "</table>\n",
       "</div>"
      ],
      "text/plain": [
       "            set_num                                          name  year  \\\n",
       "2931        30167-1                   Iron Man vs. Fighting Drone  2013   \n",
       "2932        30168-1                           Gun Mounting System  2013   \n",
       "8466      6250093-1                               Iron Man Mosaic  2018   \n",
       "11488       76006-1            Iron Man: Extremis Sea Port Battle  2013   \n",
       "11489       76007-1               Iron Man: Malibu Mansion Attack  2013   \n",
       "11490       76008-1  Iron Man vs. The Mandarin: Ultimate Showdown  2013   \n",
       "11651       76165-1                               Iron Man Helmet  2020   \n",
       "15643  TRUIRONMAN-1                               Iron Man Mosaic  2018   \n",
       "\n",
       "       theme_id  num_parts  \n",
       "2931        705         24  \n",
       "2932        705         17  \n",
       "8466        705       2305  \n",
       "11488       705        195  \n",
       "11489       705        363  \n",
       "11490       705         91  \n",
       "11651       705        479  \n",
       "15643       705         59  "
      ]
     },
     "execution_count": 22,
     "metadata": {},
     "output_type": "execute_result"
    }
   ],
   "source": [
    "sets[sets.theme_id == 705]"
   ]
  },
  {
   "cell_type": "code",
   "execution_count": 23,
   "metadata": {},
   "outputs": [
    {
     "data": {
      "text/html": [
       "<div>\n",
       "<style scoped>\n",
       "    .dataframe tbody tr th:only-of-type {\n",
       "        vertical-align: middle;\n",
       "    }\n",
       "\n",
       "    .dataframe tbody tr th {\n",
       "        vertical-align: top;\n",
       "    }\n",
       "\n",
       "    .dataframe thead th {\n",
       "        text-align: right;\n",
       "    }\n",
       "</style>\n",
       "<table border=\"1\" class=\"dataframe\">\n",
       "  <thead>\n",
       "    <tr style=\"text-align: right;\">\n",
       "      <th></th>\n",
       "      <th>id</th>\n",
       "      <th>name</th>\n",
       "      <th>parent_id</th>\n",
       "    </tr>\n",
       "  </thead>\n",
       "  <tbody>\n",
       "    <tr>\n",
       "      <th>2</th>\n",
       "      <td>3</td>\n",
       "      <td>Competition</td>\n",
       "      <td>1.0</td>\n",
       "    </tr>\n",
       "  </tbody>\n",
       "</table>\n",
       "</div>"
      ],
      "text/plain": [
       "   id         name  parent_id\n",
       "2   3  Competition        1.0"
      ]
     },
     "execution_count": 23,
     "metadata": {},
     "output_type": "execute_result"
    }
   ],
   "source": [
    "new_themes[new_themes.name == 'Competition']"
   ]
  },
  {
   "cell_type": "code",
   "execution_count": 24,
   "metadata": {},
   "outputs": [
    {
     "data": {
      "text/html": [
       "<div>\n",
       "<style scoped>\n",
       "    .dataframe tbody tr th:only-of-type {\n",
       "        vertical-align: middle;\n",
       "    }\n",
       "\n",
       "    .dataframe tbody tr th {\n",
       "        vertical-align: top;\n",
       "    }\n",
       "\n",
       "    .dataframe thead th {\n",
       "        text-align: right;\n",
       "    }\n",
       "</style>\n",
       "<table border=\"1\" class=\"dataframe\">\n",
       "  <thead>\n",
       "    <tr style=\"text-align: right;\">\n",
       "      <th></th>\n",
       "      <th>set_num</th>\n",
       "      <th>name</th>\n",
       "      <th>year</th>\n",
       "      <th>theme_id</th>\n",
       "      <th>num_parts</th>\n",
       "    </tr>\n",
       "  </thead>\n",
       "  <tbody>\n",
       "    <tr>\n",
       "      <th>2668</th>\n",
       "      <td>2854-1</td>\n",
       "      <td>Bungee Chopper</td>\n",
       "      <td>1998</td>\n",
       "      <td>3</td>\n",
       "      <td>71</td>\n",
       "    </tr>\n",
       "    <tr>\n",
       "      <th>3133</th>\n",
       "      <td>3038-1</td>\n",
       "      <td>Spider Slayer</td>\n",
       "      <td>1998</td>\n",
       "      <td>3</td>\n",
       "      <td>368</td>\n",
       "    </tr>\n",
       "    <tr>\n",
       "      <th>12311</th>\n",
       "      <td>8202-1</td>\n",
       "      <td>Blast Off Chopper with Bungee Cord Power!</td>\n",
       "      <td>1998</td>\n",
       "      <td>3</td>\n",
       "      <td>70</td>\n",
       "    </tr>\n",
       "    <tr>\n",
       "      <th>12343</th>\n",
       "      <td>8233-1</td>\n",
       "      <td>MC vs. Stinger</td>\n",
       "      <td>1998</td>\n",
       "      <td>3</td>\n",
       "      <td>118</td>\n",
       "    </tr>\n",
       "    <tr>\n",
       "      <th>12348</th>\n",
       "      <td>8239-1</td>\n",
       "      <td>Cyber Challenge</td>\n",
       "      <td>1998</td>\n",
       "      <td>3</td>\n",
       "      <td>121</td>\n",
       "    </tr>\n",
       "    <tr>\n",
       "      <th>12350</th>\n",
       "      <td>8241-1</td>\n",
       "      <td>Battle Cars</td>\n",
       "      <td>2001</td>\n",
       "      <td>3</td>\n",
       "      <td>110</td>\n",
       "    </tr>\n",
       "    <tr>\n",
       "      <th>12353</th>\n",
       "      <td>8245-1</td>\n",
       "      <td>Robot's Revenge</td>\n",
       "      <td>1998</td>\n",
       "      <td>3</td>\n",
       "      <td>222</td>\n",
       "    </tr>\n",
       "    <tr>\n",
       "      <th>12363</th>\n",
       "      <td>8257-1</td>\n",
       "      <td>Cyber Strikers</td>\n",
       "      <td>1998</td>\n",
       "      <td>3</td>\n",
       "      <td>367</td>\n",
       "    </tr>\n",
       "    <tr>\n",
       "      <th>12372</th>\n",
       "      <td>8266-1</td>\n",
       "      <td>Spyder Slayer</td>\n",
       "      <td>1998</td>\n",
       "      <td>3</td>\n",
       "      <td>368</td>\n",
       "    </tr>\n",
       "    <tr>\n",
       "      <th>12373</th>\n",
       "      <td>8268-1</td>\n",
       "      <td>Scorpion Attack</td>\n",
       "      <td>1999</td>\n",
       "      <td>3</td>\n",
       "      <td>79</td>\n",
       "    </tr>\n",
       "    <tr>\n",
       "      <th>12374</th>\n",
       "      <td>8269-1</td>\n",
       "      <td>Competition Ultra Challenge [aka Cyber Stinger]</td>\n",
       "      <td>1999</td>\n",
       "      <td>3</td>\n",
       "      <td>327</td>\n",
       "    </tr>\n",
       "    <tr>\n",
       "      <th>12410</th>\n",
       "      <td>8305-1</td>\n",
       "      <td>Duel Bikes</td>\n",
       "      <td>2000</td>\n",
       "      <td>3</td>\n",
       "      <td>208</td>\n",
       "    </tr>\n",
       "    <tr>\n",
       "      <th>12411</th>\n",
       "      <td>8307-1</td>\n",
       "      <td>Turbo Racer</td>\n",
       "      <td>2000</td>\n",
       "      <td>3</td>\n",
       "      <td>392</td>\n",
       "    </tr>\n",
       "    <tr>\n",
       "      <th>12516</th>\n",
       "      <td>8450-1</td>\n",
       "      <td>Mission Experience Pack</td>\n",
       "      <td>2000</td>\n",
       "      <td>3</td>\n",
       "      <td>644</td>\n",
       "    </tr>\n",
       "    <tr>\n",
       "      <th>12546</th>\n",
       "      <td>8482-1</td>\n",
       "      <td>CyberMaster</td>\n",
       "      <td>1998</td>\n",
       "      <td>3</td>\n",
       "      <td>906</td>\n",
       "    </tr>\n",
       "    <tr>\n",
       "      <th>12547</th>\n",
       "      <td>8483-1</td>\n",
       "      <td>CyberMaster</td>\n",
       "      <td>1998</td>\n",
       "      <td>3</td>\n",
       "      <td>897</td>\n",
       "    </tr>\n",
       "    <tr>\n",
       "      <th>13548</th>\n",
       "      <td>880001-1</td>\n",
       "      <td>Competition Racers with Stopwatch</td>\n",
       "      <td>1998</td>\n",
       "      <td>3</td>\n",
       "      <td>0</td>\n",
       "    </tr>\n",
       "    <tr>\n",
       "      <th>15614</th>\n",
       "      <td>tech007promo-1</td>\n",
       "      <td>Technic Figure Cyber Person Promotional Polyba...</td>\n",
       "      <td>1998</td>\n",
       "      <td>3</td>\n",
       "      <td>1</td>\n",
       "    </tr>\n",
       "  </tbody>\n",
       "</table>\n",
       "</div>"
      ],
      "text/plain": [
       "              set_num                                               name  \\\n",
       "2668           2854-1                                     Bungee Chopper   \n",
       "3133           3038-1                                      Spider Slayer   \n",
       "12311          8202-1          Blast Off Chopper with Bungee Cord Power!   \n",
       "12343          8233-1                                     MC vs. Stinger   \n",
       "12348          8239-1                                    Cyber Challenge   \n",
       "12350          8241-1                                        Battle Cars   \n",
       "12353          8245-1                                    Robot's Revenge   \n",
       "12363          8257-1                                     Cyber Strikers   \n",
       "12372          8266-1                                      Spyder Slayer   \n",
       "12373          8268-1                                    Scorpion Attack   \n",
       "12374          8269-1    Competition Ultra Challenge [aka Cyber Stinger]   \n",
       "12410          8305-1                                         Duel Bikes   \n",
       "12411          8307-1                                        Turbo Racer   \n",
       "12516          8450-1                            Mission Experience Pack   \n",
       "12546          8482-1                                        CyberMaster   \n",
       "12547          8483-1                                        CyberMaster   \n",
       "13548        880001-1                  Competition Racers with Stopwatch   \n",
       "15614  tech007promo-1  Technic Figure Cyber Person Promotional Polyba...   \n",
       "\n",
       "       year  theme_id  num_parts  \n",
       "2668   1998         3         71  \n",
       "3133   1998         3        368  \n",
       "12311  1998         3         70  \n",
       "12343  1998         3        118  \n",
       "12348  1998         3        121  \n",
       "12350  2001         3        110  \n",
       "12353  1998         3        222  \n",
       "12363  1998         3        367  \n",
       "12372  1998         3        368  \n",
       "12373  1999         3         79  \n",
       "12374  1999         3        327  \n",
       "12410  2000         3        208  \n",
       "12411  2000         3        392  \n",
       "12516  2000         3        644  \n",
       "12546  1998         3        906  \n",
       "12547  1998         3        897  \n",
       "13548  1998         3          0  \n",
       "15614  1998         3          1  "
      ]
     },
     "execution_count": 24,
     "metadata": {},
     "output_type": "execute_result"
    }
   ],
   "source": [
    "sets[sets.theme_id == 3]"
   ]
  },
  {
   "cell_type": "code",
   "execution_count": null,
   "metadata": {
    "colab": {},
    "colab_type": "code",
    "id": "aqt07DSTIqvP",
    "scrolled": true
   },
   "outputs": [],
   "source": []
  },
  {
   "cell_type": "markdown",
   "metadata": {
    "colab_type": "text",
    "id": "SmTCXWKKIqvQ"
   },
   "source": [
    "### Merging (i.e., Combining) DataFrames based on a Key\n"
   ]
  },
  {
   "cell_type": "code",
   "execution_count": 25,
   "metadata": {
    "colab": {},
    "colab_type": "code",
    "id": "esKQULhcIqvR"
   },
   "outputs": [
    {
     "data": {
      "text/html": [
       "<div>\n",
       "<style scoped>\n",
       "    .dataframe tbody tr th:only-of-type {\n",
       "        vertical-align: middle;\n",
       "    }\n",
       "\n",
       "    .dataframe tbody tr th {\n",
       "        vertical-align: top;\n",
       "    }\n",
       "\n",
       "    .dataframe thead th {\n",
       "        text-align: right;\n",
       "    }\n",
       "</style>\n",
       "<table border=\"1\" class=\"dataframe\">\n",
       "  <thead>\n",
       "    <tr style=\"text-align: right;\">\n",
       "      <th></th>\n",
       "      <th>id</th>\n",
       "      <th>set_Count</th>\n",
       "    </tr>\n",
       "  </thead>\n",
       "  <tbody>\n",
       "    <tr>\n",
       "      <th>158</th>\n",
       "      <td>158</td>\n",
       "      <td>753</td>\n",
       "    </tr>\n",
       "    <tr>\n",
       "      <th>501</th>\n",
       "      <td>501</td>\n",
       "      <td>656</td>\n",
       "    </tr>\n",
       "    <tr>\n",
       "      <th>494</th>\n",
       "      <td>494</td>\n",
       "      <td>398</td>\n",
       "    </tr>\n",
       "    <tr>\n",
       "      <th>435</th>\n",
       "      <td>435</td>\n",
       "      <td>356</td>\n",
       "    </tr>\n",
       "    <tr>\n",
       "      <th>503</th>\n",
       "      <td>503</td>\n",
       "      <td>329</td>\n",
       "    </tr>\n",
       "  </tbody>\n",
       "</table>\n",
       "</div>"
      ],
      "text/plain": [
       "      id  set_Count\n",
       "158  158        753\n",
       "501  501        656\n",
       "494  494        398\n",
       "435  435        356\n",
       "503  503        329"
      ]
     },
     "execution_count": 25,
     "metadata": {},
     "output_type": "execute_result"
    }
   ],
   "source": [
    "combine = pd.DataFrame({'id':highest_theme.index,'set_Count':sets['theme_id'].value_counts()})\n",
    "combine.head()"
   ]
  },
  {
   "cell_type": "markdown",
   "metadata": {
    "colab": {},
    "colab_type": "code",
    "id": "i0LobgIvIqvT"
   },
   "source": [
    "### using the merge function to combine data sets"
   ]
  },
  {
   "cell_type": "markdown",
   "metadata": {},
   "source": [
    "To .merge() two DataFrame along a particular column, we need to provide our two DataFrames and then the column name on which to merge. This is why we set on='id'. Both our set_theme_count and our themes DataFrames have a column with this name.\n",
    "\n"
   ]
  },
  {
   "cell_type": "code",
   "execution_count": 28,
   "metadata": {
    "colab": {},
    "colab_type": "code",
    "id": "I7UMP7VXIqvU"
   },
   "outputs": [
    {
     "data": {
      "text/html": [
       "<div>\n",
       "<style scoped>\n",
       "    .dataframe tbody tr th:only-of-type {\n",
       "        vertical-align: middle;\n",
       "    }\n",
       "\n",
       "    .dataframe tbody tr th {\n",
       "        vertical-align: top;\n",
       "    }\n",
       "\n",
       "    .dataframe thead th {\n",
       "        text-align: right;\n",
       "    }\n",
       "</style>\n",
       "<table border=\"1\" class=\"dataframe\">\n",
       "  <thead>\n",
       "    <tr style=\"text-align: right;\">\n",
       "      <th></th>\n",
       "      <th>id</th>\n",
       "      <th>name</th>\n",
       "      <th>parent_id</th>\n",
       "      <th>set_Count</th>\n",
       "    </tr>\n",
       "  </thead>\n",
       "  <tbody>\n",
       "    <tr>\n",
       "      <th>0</th>\n",
       "      <td>1</td>\n",
       "      <td>Technic</td>\n",
       "      <td>NaN</td>\n",
       "      <td>167</td>\n",
       "    </tr>\n",
       "    <tr>\n",
       "      <th>1</th>\n",
       "      <td>2</td>\n",
       "      <td>Arctic Technic</td>\n",
       "      <td>1.0</td>\n",
       "      <td>4</td>\n",
       "    </tr>\n",
       "    <tr>\n",
       "      <th>2</th>\n",
       "      <td>3</td>\n",
       "      <td>Competition</td>\n",
       "      <td>1.0</td>\n",
       "      <td>18</td>\n",
       "    </tr>\n",
       "  </tbody>\n",
       "</table>\n",
       "</div>"
      ],
      "text/plain": [
       "   id            name  parent_id  set_Count\n",
       "0   1         Technic        NaN        167\n",
       "1   2  Arctic Technic        1.0          4\n",
       "2   3     Competition        1.0         18"
      ]
     },
     "execution_count": 28,
     "metadata": {},
     "output_type": "execute_result"
    }
   ],
   "source": [
    "merge_data = pd.merge(new_themes,combine,on='id')\n",
    "merge_data[:3]"
   ]
  }
 ],
 "metadata": {
  "colab": {
   "name": "Lego Analysis for Course (start).ipynb",
   "provenance": []
  },
  "gist": {
   "data": {
    "description": "Desktop/code/Analysing_LEGO_NOTEBOOK/Lego_Analysis_for_Course_(start).ipynb",
    "public": true
   },
   "id": ""
  },
  "kernelspec": {
   "display_name": "Python 3 (ipykernel)",
   "language": "python",
   "name": "python3"
  },
  "language_info": {
   "codemirror_mode": {
    "name": "ipython",
    "version": 3
   },
   "file_extension": ".py",
   "mimetype": "text/x-python",
   "name": "python",
   "nbconvert_exporter": "python",
   "pygments_lexer": "ipython3",
   "version": "3.9.16"
  }
 },
 "nbformat": 4,
 "nbformat_minor": 4
}

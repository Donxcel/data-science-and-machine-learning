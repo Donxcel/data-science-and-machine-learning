{
 "cells": [
  {
   "cell_type": "markdown",
   "id": "41aa3b8b",
   "metadata": {},
   "source": [
    "# Logistic Regression"
   ]
  },
  {
   "cell_type": "markdown",
   "id": "e96ca06d",
   "metadata": {},
   "source": [
    "### importing the data processing libraries"
   ]
  },
  {
   "cell_type": "code",
   "execution_count": 3,
   "id": "b3892277",
   "metadata": {},
   "outputs": [],
   "source": [
    "import pandas as pd\n",
    "import numpy as np\n",
    "import matplotlib.pyplot as plt"
   ]
  },
  {
   "cell_type": "markdown",
   "id": "75c03016",
   "metadata": {},
   "source": [
    "###  loading the dataset into our notebook"
   ]
  },
  {
   "cell_type": "code",
   "execution_count": 5,
   "id": "91a6a351",
   "metadata": {},
   "outputs": [
    {
     "data": {
      "text/html": [
       "<div>\n",
       "<style scoped>\n",
       "    .dataframe tbody tr th:only-of-type {\n",
       "        vertical-align: middle;\n",
       "    }\n",
       "\n",
       "    .dataframe tbody tr th {\n",
       "        vertical-align: top;\n",
       "    }\n",
       "\n",
       "    .dataframe thead th {\n",
       "        text-align: right;\n",
       "    }\n",
       "</style>\n",
       "<table border=\"1\" class=\"dataframe\">\n",
       "  <thead>\n",
       "    <tr style=\"text-align: right;\">\n",
       "      <th></th>\n",
       "      <th>Age</th>\n",
       "      <th>EstimatedSalary</th>\n",
       "      <th>Purchased</th>\n",
       "    </tr>\n",
       "  </thead>\n",
       "  <tbody>\n",
       "    <tr>\n",
       "      <th>0</th>\n",
       "      <td>19</td>\n",
       "      <td>19000</td>\n",
       "      <td>0</td>\n",
       "    </tr>\n",
       "    <tr>\n",
       "      <th>1</th>\n",
       "      <td>35</td>\n",
       "      <td>20000</td>\n",
       "      <td>0</td>\n",
       "    </tr>\n",
       "    <tr>\n",
       "      <th>2</th>\n",
       "      <td>26</td>\n",
       "      <td>43000</td>\n",
       "      <td>0</td>\n",
       "    </tr>\n",
       "    <tr>\n",
       "      <th>3</th>\n",
       "      <td>27</td>\n",
       "      <td>57000</td>\n",
       "      <td>0</td>\n",
       "    </tr>\n",
       "    <tr>\n",
       "      <th>4</th>\n",
       "      <td>19</td>\n",
       "      <td>76000</td>\n",
       "      <td>0</td>\n",
       "    </tr>\n",
       "  </tbody>\n",
       "</table>\n",
       "</div>"
      ],
      "text/plain": [
       "   Age  EstimatedSalary  Purchased\n",
       "0   19            19000          0\n",
       "1   35            20000          0\n",
       "2   26            43000          0\n",
       "3   27            57000          0\n",
       "4   19            76000          0"
      ]
     },
     "execution_count": 5,
     "metadata": {},
     "output_type": "execute_result"
    }
   ],
   "source": [
    "df_data = pd.read_csv('Social_Network_Ads.csv')\n",
    "df_data.head()"
   ]
  },
  {
   "cell_type": "markdown",
   "id": "6c8d89e8",
   "metadata": {},
   "source": [
    "### splitting the data in terms of features and labels\n"
   ]
  },
  {
   "cell_type": "code",
   "execution_count": 49,
   "id": "1b9e3b00",
   "metadata": {},
   "outputs": [],
   "source": [
    "X = df_data.iloc[:,:2].values\n",
    "y = df_data.iloc[:,2:].values"
   ]
  },
  {
   "cell_type": "markdown",
   "id": "7cc02976",
   "metadata": {},
   "source": [
    "### splitting the data into training set and test set"
   ]
  },
  {
   "cell_type": "code",
   "execution_count": 50,
   "id": "f411843c",
   "metadata": {
    "scrolled": false
   },
   "outputs": [
    {
     "data": {
      "text/plain": [
       "array([[    54, 104000],\n",
       "       [    41,  52000],\n",
       "       [    27, 137000],\n",
       "       [    35,  79000],\n",
       "       [    35,  72000],\n",
       "       [    42,  70000],\n",
       "       [    26,  80000],\n",
       "       [    31,  34000],\n",
       "       [    35,  75000],\n",
       "       [    33,  69000],\n",
       "       [    37,  75000],\n",
       "       [    40,  57000],\n",
       "       [    19,  70000],\n",
       "       [    41,  87000],\n",
       "       [    34,  43000],\n",
       "       [    40,  61000],\n",
       "       [    44,  39000],\n",
       "       [    39,  73000],\n",
       "       [    49,  86000],\n",
       "       [    26,  32000],\n",
       "       [    60, 108000],\n",
       "       [    35,  97000],\n",
       "       [    19,  19000],\n",
       "       [    31,  74000],\n",
       "       [    28,  79000],\n",
       "       [    26,  86000],\n",
       "       [    42,  54000],\n",
       "       [    28, 123000],\n",
       "       [    58,  38000],\n",
       "       [    35,  60000],\n",
       "       [    46,  28000],\n",
       "       [    57,  60000],\n",
       "       [    38,  51000],\n",
       "       [    35,  22000],\n",
       "       [    45,  22000],\n",
       "       [    29,  61000],\n",
       "       [    35,  59000],\n",
       "       [    36, 126000],\n",
       "       [    24,  89000],\n",
       "       [    18,  52000],\n",
       "       [    42,  54000],\n",
       "       [    35,  20000],\n",
       "       [    19,  85000],\n",
       "       [    56, 104000],\n",
       "       [    19,  76000],\n",
       "       [    57,  26000],\n",
       "       [    54, 108000],\n",
       "       [    32, 100000],\n",
       "       [    46,  88000],\n",
       "       [    35,  23000],\n",
       "       [    29,  43000],\n",
       "       [    46,  41000],\n",
       "       [    26,  15000],\n",
       "       [    18,  68000],\n",
       "       [    35,  71000],\n",
       "       [    36, 125000],\n",
       "       [    39,  71000],\n",
       "       [    32,  18000],\n",
       "       [    39,  42000],\n",
       "       [    26,  84000],\n",
       "       [    32, 117000],\n",
       "       [    47,  25000],\n",
       "       [    42, 149000],\n",
       "       [    48, 141000],\n",
       "       [    48,  33000],\n",
       "       [    33,  41000],\n",
       "       [    46,  22000],\n",
       "       [    29,  47000],\n",
       "       [    40,  57000],\n",
       "       [    40, 142000],\n",
       "       [    22,  81000],\n",
       "       [    41,  51000],\n",
       "       [    28,  89000],\n",
       "       [    41,  52000],\n",
       "       [    53, 143000],\n",
       "       [    38,  71000],\n",
       "       [    23,  28000],\n",
       "       [    32, 117000],\n",
       "       [    47,  34000],\n",
       "       [    48,  30000]])"
      ]
     },
     "execution_count": 50,
     "metadata": {},
     "output_type": "execute_result"
    }
   ],
   "source": [
    "from sklearn.model_selection import train_test_split\n",
    "X_train,X_test,y_train,y_test = train_test_split(X,y,test_size=0.2)\n",
    "X_test         # which has been perfectly splitted"
   ]
  },
  {
   "cell_type": "markdown",
   "id": "efe23b3b",
   "metadata": {},
   "source": [
    "### Applying feature Scaling to the dataset"
   ]
  },
  {
   "cell_type": "code",
   "execution_count": 51,
   "id": "50a2abb6",
   "metadata": {},
   "outputs": [],
   "source": [
    "from sklearn.preprocessing import StandardScaler\n",
    "f_scale_X = StandardScaler()\n",
    "f_scale_y = StandardScaler()\n",
    "X_train = f_scale_X.fit_transform(X_train)\n"
   ]
  },
  {
   "cell_type": "markdown",
   "id": "7e8e5d6f",
   "metadata": {},
   "source": [
    "### Training our Logistic regression model on the training dataset"
   ]
  },
  {
   "cell_type": "code",
   "execution_count": 57,
   "id": "f5f58591",
   "metadata": {},
   "outputs": [],
   "source": [
    "from sklearn.linear_model import LogisticRegression\n",
    "regression = LogisticRegression(random_state=0).fit(X_train,np.ravel(y_train))"
   ]
  },
  {
   "cell_type": "markdown",
   "id": "99f51a9e",
   "metadata": {},
   "source": [
    "### Predict  new result"
   ]
  },
  {
   "cell_type": "code",
   "execution_count": 58,
   "id": "a1121d6f",
   "metadata": {},
   "outputs": [
    {
     "data": {
      "text/plain": [
       "array([0])"
      ]
     },
     "execution_count": 58,
     "metadata": {},
     "output_type": "execute_result"
    }
   ],
   "source": [
    "regression.predict(f_scale_X.transform([[45,20000]])) "
   ]
  },
  {
   "cell_type": "markdown",
   "id": "53ab3182",
   "metadata": {},
   "source": [
    "### Predicting the test set results"
   ]
  },
  {
   "cell_type": "code",
   "execution_count": 63,
   "id": "62079d48",
   "metadata": {},
   "outputs": [],
   "source": [
    "predicted_results = regression.predict(f_scale_X.transform(X_test))\n",
    "y1 =predicted_results"
   ]
  },
  {
   "cell_type": "code",
   "execution_count": 65,
   "id": "65ea61b5",
   "metadata": {},
   "outputs": [],
   "source": [
    "y2 = np.ravel(y_test)"
   ]
  },
  {
   "cell_type": "markdown",
   "id": "04f9b844",
   "metadata": {},
   "source": [
    "### Making the confusion matrix"
   ]
  },
  {
   "cell_type": "markdown",
   "id": "f56c1b39",
   "metadata": {},
   "source": [
    "A confusion matrix is a matrix that summarizes the performance of a machine learning model on a set of test data. It is often used to measure the performance of classification models, which aim to predict a categorical label for each input instance. The matrix displays the number of true positives (TP), true negatives (TN), false positives (FP), and false negatives (FN) produced by the model on the test data."
   ]
  },
  {
   "cell_type": "code",
   "execution_count": 77,
   "id": "467957ae",
   "metadata": {},
   "outputs": [
    {
     "name": "stdout",
     "output_type": "stream",
     "text": [
      "[[52  1]\n",
      " [12 15]] \n",
      " 0.8375\n"
     ]
    }
   ],
   "source": [
    "from sklearn.metrics import confusion_matrix,accuracy_score\n",
    "difference = confusion_matrix(y2,y1)\n",
    "accuracy = accuracy_score(y2,y1)\n",
    "print(difference,'\\n',accuracy)   # which shows an accuracy of 0.837 which is quite good"
   ]
  },
  {
   "cell_type": "code",
   "execution_count": 74,
   "id": "b6b8c586",
   "metadata": {},
   "outputs": [
    {
     "data": {
      "image/png": "[encoded data removed]",
      "text/plain": [
       "<Figure size 640x480 with 2 Axes>"
      ]
     },
     "metadata": {},
     "output_type": "display_data"
    }
   ],
   "source": [
    "import seaborn as sns\n",
    "sns.heatmap(difference,\n",
    "             fmt='g',\n",
    "           xticklabels=['buy','Not buy'],\n",
    "            yticklabels=['buy','Not buy'],)\n",
    "plt.ylabel('Prediction',fontsize=13)\n",
    "plt.xlabel('Actual',fontsize=13)\n",
    "plt.title('Confusion Matrix',fontsize=17)\n",
    "plt.show()"
   ]
  }
 ],
 "metadata": {
  "kernelspec": {
   "display_name": "Python 3 (ipykernel)",
   "language": "python",
   "name": "python3"
  },
  "language_info": {
   "codemirror_mode": {
    "name": "ipython",
    "version": 3
   },
   "file_extension": ".py",
   "mimetype": "text/x-python",
   "name": "python",
   "nbconvert_exporter": "python",
   "pygments_lexer": "ipython3",
   "version": "3.9.16"
  }
 },
 "nbformat": 4,
 "nbformat_minor": 5
}

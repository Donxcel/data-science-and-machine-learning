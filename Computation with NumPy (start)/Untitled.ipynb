{
 "cells": [
  {
   "cell_type": "markdown",
   "id": "d36818e0",
   "metadata": {},
   "source": [
    "# Introduction\n",
    "\n",
    "In this notebook we'll learn how to use NumPy to work with numerical data. \n",
    "\n",
    "<img src=\"https://i.imgur.com/dZ1XE9o.png\" width=400>"
   ]
  },
  {
   "cell_type": "markdown",
   "id": "67dd8452",
   "metadata": {},
   "source": [
    "## Importing the main modules"
   ]
  },
  {
   "cell_type": "code",
   "execution_count": 55,
   "id": "fb6821f4",
   "metadata": {},
   "outputs": [],
   "source": [
    "import numpy as np\n",
    "from scipy import misc # import the image of a racoon\n",
    "from PIL import Image  # module for reading image files "
   ]
  },
  {
   "cell_type": "markdown",
   "id": "f679b459",
   "metadata": {},
   "source": [
    "# Understanding NumPy's ndarray\n",
    "\n",
    "NumPy's most amazing feature is the **powerful** ndarray.\n",
    "\n",
    "<img src=\"https://i.imgur.com/1IUqnxX.png\" width=200>"
   ]
  },
  {
   "cell_type": "markdown",
   "id": "b6965b20",
   "metadata": {},
   "source": [
    "#### 1- dimensional array(Vectors)"
   ]
  },
  {
   "cell_type": "code",
   "execution_count": 6,
   "id": "0b647e84",
   "metadata": {},
   "outputs": [
    {
     "data": {
      "text/plain": [
       "array([1, 2, 3, 4])"
      ]
     },
     "execution_count": 6,
     "metadata": {},
     "output_type": "execute_result"
    }
   ],
   "source": [
    "# creating a 1 directional array\n",
    "array_1 = np.array([1,2,3,4])\n",
    "array_1"
   ]
  },
  {
   "cell_type": "code",
   "execution_count": 7,
   "id": "71c51bf6",
   "metadata": {
    "scrolled": true
   },
   "outputs": [
    {
     "name": "stdout",
     "output_type": "stream",
     "text": [
      " aray_1 has (4,) shape\n"
     ]
    }
   ],
   "source": [
    "print(f\" aray_1 has {array_1.shape} shape\")"
   ]
  },
  {
   "cell_type": "code",
   "execution_count": 8,
   "id": "a69a28d2",
   "metadata": {},
   "outputs": [
    {
     "data": {
      "text/plain": [
       "3"
      ]
     },
     "execution_count": 8,
     "metadata": {},
     "output_type": "execute_result"
    }
   ],
   "source": [
    "# Accessing elements by index\n",
    "array_1[2]"
   ]
  },
  {
   "cell_type": "markdown",
   "id": "4cd995bf",
   "metadata": {},
   "source": [
    "#### 2-Dimensional Arrays (Matrices)"
   ]
  },
  {
   "cell_type": "code",
   "execution_count": 9,
   "id": "f322cd2f",
   "metadata": {},
   "outputs": [
    {
     "name": "stdout",
     "output_type": "stream",
     "text": [
      "array_2d has 2 dimensions\n",
      "Its shape is (2, 4)\n",
      "It has 2 rows and 4 columns\n",
      "[[1 2 3 9]\n",
      " [5 6 7 8]]\n"
     ]
    }
   ],
   "source": [
    "array_2d = np.array([[1, 2, 3, 9], \n",
    "                     [5, 6, 7, 8]])\n",
    "\n",
    "print(f'array_2d has {array_2d.ndim} dimensions')\n",
    "print(f'Its shape is {array_2d.shape}')\n",
    "print(f'It has {array_2d.shape[0]} rows and {array_2d.shape[1]} columns')\n",
    "print(array_2d)"
   ]
  },
  {
   "cell_type": "code",
   "execution_count": 10,
   "id": "e9d77fb6",
   "metadata": {},
   "outputs": [
    {
     "data": {
      "text/plain": [
       "9"
      ]
     },
     "execution_count": 10,
     "metadata": {},
     "output_type": "execute_result"
    }
   ],
   "source": [
    "# Access the 4th value in the 2nd row\n",
    "array_2d[0,3]"
   ]
  },
  {
   "cell_type": "code",
   "execution_count": 12,
   "id": "cfed74ae",
   "metadata": {},
   "outputs": [
    {
     "data": {
      "text/plain": [
       "array([1, 2, 3])"
      ]
     },
     "execution_count": 12,
     "metadata": {},
     "output_type": "execute_result"
    }
   ],
   "source": [
    "# Access all the values in the first row except the last value\n",
    "array_2d[0,:-1]"
   ]
  },
  {
   "cell_type": "markdown",
   "id": "56be0e59",
   "metadata": {},
   "source": [
    "#### N-Dimensional Arrays (Tensors)\n",
    "\n",
    "**Challenge**: \n",
    "* How many dimensions does the array below have? \n",
    "* What is its shape (i.e., how many elements are along each axis)?\n",
    "* Try to access the value `18` in the last line of code.\n",
    "* Try to retrieve a 1 dimensional vector with the values `[97, 0, 27, 18]`\n",
    "* Try to retrieve a (3,2) matrix with the values `[[ 0,  4], [ 7,  5], [ 5, 97]]`\n",
    "\n",
    "*Hint*: You can use the `:` operator just as with Python Lists."
   ]
  },
  {
   "cell_type": "code",
   "execution_count": 13,
   "id": "c31bb87b",
   "metadata": {},
   "outputs": [
    {
     "data": {
      "text/plain": [
       "array([[[ 0,  1,  2,  3],\n",
       "        [ 4,  5,  6,  7]],\n",
       "\n",
       "       [[ 7, 86,  6, 98],\n",
       "        [ 5,  1,  0,  4]],\n",
       "\n",
       "       [[ 5, 36, 32, 48],\n",
       "        [97,  0, 27, 18]]])"
      ]
     },
     "execution_count": 13,
     "metadata": {},
     "output_type": "execute_result"
    }
   ],
   "source": [
    "mystery_array = np.array([[[0, 1, 2, 3],\n",
    "                           [4, 5, 6, 7]],\n",
    "                        \n",
    "                         [[7, 86, 6, 98],\n",
    "                          [5, 1, 0, 4]],\n",
    "                          \n",
    "                          [[5, 36, 32, 48],\n",
    "                           [97, 0, 27, 18]]])\n",
    "\n",
    "# Note all the square brackets!\n",
    "mystery_array"
   ]
  },
  {
   "cell_type": "code",
   "execution_count": 14,
   "id": "50d782d1",
   "metadata": {},
   "outputs": [
    {
     "data": {
      "text/plain": [
       "(3, 2, 4)"
      ]
     },
     "execution_count": 14,
     "metadata": {},
     "output_type": "execute_result"
    }
   ],
   "source": [
    "mystery_array.shape      # getting the shape of the array"
   ]
  },
  {
   "cell_type": "code",
   "execution_count": 17,
   "id": "2d803d01",
   "metadata": {},
   "outputs": [
    {
     "data": {
      "text/plain": [
       "3"
      ]
     },
     "execution_count": 17,
     "metadata": {},
     "output_type": "execute_result"
    }
   ],
   "source": [
    "mystery_array.ndim    # getting the dimensions"
   ]
  },
  {
   "cell_type": "code",
   "execution_count": 18,
   "id": "255b3327",
   "metadata": {},
   "outputs": [
    {
     "data": {
      "text/plain": [
       "18"
      ]
     },
     "execution_count": 18,
     "metadata": {},
     "output_type": "execute_result"
    }
   ],
   "source": [
    "mystery_array[2,1,-1]  # accessing the value 18"
   ]
  },
  {
   "cell_type": "code",
   "execution_count": 34,
   "id": "c1dc7c06",
   "metadata": {},
   "outputs": [
    {
     "data": {
      "text/plain": [
       "array([97,  0, 27, 18])"
      ]
     },
     "execution_count": 34,
     "metadata": {},
     "output_type": "execute_result"
    }
   ],
   "source": [
    "# Try to retrieve a 1 dimensional vector with the values `[97, 0, 27, 18]`\n",
    "access = mystery_array[2,1]\n",
    "access"
   ]
  },
  {
   "cell_type": "code",
   "execution_count": 38,
   "id": "4e5fe4dd",
   "metadata": {},
   "outputs": [
    {
     "data": {
      "text/plain": [
       "array([[ 1,  5],\n",
       "       [86,  1],\n",
       "       [36,  0]])"
      ]
     },
     "execution_count": 38,
     "metadata": {},
     "output_type": "execute_result"
    }
   ],
   "source": [
    "access_2 = mystery_array[:,:,1]\n",
    "access_2"
   ]
  },
  {
   "cell_type": "markdown",
   "id": "e045f368",
   "metadata": {},
   "source": [
    "# NumPy Mini-Challenges"
   ]
  },
  {
   "cell_type": "markdown",
   "id": "f63d8f06",
   "metadata": {},
   "source": [
    "#### **Challenge 1**: Use [`.arange()`](https://numpy.org/devdocs/reference/generated/numpy.arange.html)to createa a vector `a` with values ranging from 10 to 29. You should get this:\n",
    "\n",
    "`print(a)`\n",
    "\n",
    "`[10 11 12 13 14 15 16 17 18 19 20 21 22 23 24 25 26 27 28 29]`"
   ]
  },
  {
   "cell_type": "code",
   "execution_count": 40,
   "id": "c802f296",
   "metadata": {},
   "outputs": [
    {
     "data": {
      "text/plain": [
       "array([10, 11, 12, 13, 14, 15, 16, 17, 18, 19, 20, 21, 22, 23, 24, 25, 26,\n",
       "       27, 28, 29])"
      ]
     },
     "execution_count": 40,
     "metadata": {},
     "output_type": "execute_result"
    }
   ],
   "source": [
    "a = np.arange(10,30)\n",
    "a"
   ]
  },
  {
   "cell_type": "markdown",
   "id": "dcd62261",
   "metadata": {},
   "source": [
    "#### **Challenge 2**: Use Python slicing techniques on `a` to:\n",
    "* Create an array containing only the last 3 values of `a`\n",
    "* Create a subset with only the 4th, 5th, and 6th values\n",
    "* Create a subset of `a` containing all the values except for the first 12 (i.e., `[22, 23, 24, 25, 26, 27, 28, 29]`)\n",
    "* Create a subset that only contains the even numbers (i.e, every second number)"
   ]
  },
  {
   "cell_type": "code",
   "execution_count": 44,
   "id": "1517ded7",
   "metadata": {},
   "outputs": [
    {
     "data": {
      "text/plain": [
       "array([27, 28, 29])"
      ]
     },
     "execution_count": 44,
     "metadata": {},
     "output_type": "execute_result"
    }
   ],
   "source": [
    "a[-3:]   # containing the 3 last values"
   ]
  },
  {
   "cell_type": "code",
   "execution_count": 45,
   "id": "b1bad2e6",
   "metadata": {},
   "outputs": [
    {
     "data": {
      "text/plain": [
       "array([14, 15, 16])"
      ]
     },
     "execution_count": 45,
     "metadata": {},
     "output_type": "execute_result"
    }
   ],
   "source": [
    "a[4:7]"
   ]
  },
  {
   "cell_type": "code",
   "execution_count": 48,
   "id": "45e09b25",
   "metadata": {},
   "outputs": [
    {
     "data": {
      "text/plain": [
       "array([22, 23, 24, 25, 26, 27, 28, 29])"
      ]
     },
     "execution_count": 48,
     "metadata": {},
     "output_type": "execute_result"
    }
   ],
   "source": [
    "a[12:]"
   ]
  },
  {
   "cell_type": "code",
   "execution_count": 54,
   "id": "1a9ced25",
   "metadata": {},
   "outputs": [
    {
     "data": {
      "text/plain": [
       "array([10, 12, 14, 16, 18, 20, 22, 24, 26, 28])"
      ]
     },
     "execution_count": 54,
     "metadata": {},
     "output_type": "execute_result"
    }
   ],
   "source": [
    "a[::2]"
   ]
  },
  {
   "cell_type": "markdown",
   "id": "80c21077",
   "metadata": {},
   "source": [
    "#### **Challenge 3**:Reverse the order of the values in `a`, so that the first element comes last:\n",
    "\n",
    "`[29, 28, 27, 26, 25, 24, 23, 22, 21, 20, 19, 18, 17, 16, 15, 14, 13,\n",
    "       12, 11, 10]`\n",
    "\n",
    "\n",
    "If you need a hint, you can check out this part of the [NumPy beginner's guide](\n",
    "https://numpy.org/devdocs/user/absolute_beginners.html#how-to-reverse-an-array)"
   ]
  },
  {
   "cell_type": "raw",
   "id": "c7e7818f",
   "metadata": {},
   "source": [
    "reverse = np.flip()"
   ]
  }
 ],
 "metadata": {
  "kernelspec": {
   "display_name": "Python 3 (ipykernel)",
   "language": "python",
   "name": "python3"
  },
  "language_info": {
   "codemirror_mode": {
    "name": "ipython",
    "version": 3
   },
   "file_extension": ".py",
   "mimetype": "text/x-python",
   "name": "python",
   "nbconvert_exporter": "python",
   "pygments_lexer": "ipython3",
   "version": "3.9.16"
  }
 },
 "nbformat": 4,
 "nbformat_minor": 5
}
